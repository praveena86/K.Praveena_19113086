{
 "cells": [
  {
   "cell_type": "raw",
   "metadata": {
    "id": "TIFGUxDrusgC"
   },
   "source": [
    "# Implementtaion of Simple Perceptron Algorithm"
   ]
  },
  {
   "cell_type": "code",
   "execution_count": null,
   "metadata": {
    "id": "LbV-7KWQefAp"
   },
   "outputs": [],
   "source": [
    "from numpy import array, random, dot\n",
    "from random import choice"
   ]
  },
  {
   "cell_type": "markdown",
   "metadata": {
    "id": "AJDTgr5zrm6V"
   },
   "source": [
    "The first line above helps us import three functions from the numpy library namely array, random, and dot. The three functions will help us generate data values and operate on them.\n",
    "\n",
    "The second line helps us import the choice function from the random library to help us select data values from lists.  "
   ]
  },
  {
   "cell_type": "markdown",
   "metadata": {
    "id": "l6McakVKsC5u"
   },
   "source": []
  },
  {
   "cell_type": "markdown",
   "metadata": {
    "id": "MlXAtaYZsC8e"
   },
   "source": [
    "# Create a Step Function\n",
    "The next step should be to create a step function.\n",
    "\n",
    "This will act as the activation function for our Perceptron.\n",
    "\n",
    "Remember that the Perceptron classifies each input value into one of the two categories, o or 1.\n",
    "\n",
    "So, the step function should be as follows:\n",
    "\n",
    "step_function = lambda x: 0 if x < 0 else 1\n",
    "\n",
    "The function has been given the name step_function.\n",
    "\n",
    "The function will return 0 if the input passed to it is less than 0, else, it will return 1."
   ]
  },
  {
   "cell_type": "code",
   "execution_count": null,
   "metadata": {
    "id": "z-bEWS1Yerk7"
   },
   "outputs": [],
   "source": [
    "step_function = lambda x: 0 if x < 0 else 1"
   ]
  },
  {
   "cell_type": "markdown",
   "metadata": {
    "id": "VXYGCILtsOyO"
   },
   "source": [
    "# Training Dataset\n",
    "We can load our training dataset into a NumPy array."
   ]
  },
  {
   "cell_type": "code",
   "execution_count": null,
   "metadata": {
    "id": "hQVL-by5es2t"
   },
   "outputs": [],
   "source": [
    "training_dataset = [\n",
    "\n",
    "    (array([0,0,1]), 0),\n",
    "\n",
    "    (array([0,1,1]), 1),\n",
    "\n",
    "    (array([1,0,1]), 1),\n",
    "\n",
    "    (array([1,1,1]), 1),\n",
    "\n",
    "]"
   ]
  },
  {
   "cell_type": "markdown",
   "metadata": {
    "id": "CqYbwjI7tAif"
   },
   "source": [
    "he training data has been given the name training_dataset.\n",
    "\n",
    "The first two NumPy array entries in each tuple represent the two input values.\n",
    "\n",
    "Each tuple’s second element represents the expected result.\n",
    "\n",
    "The array’s third element is a dummyinput (also known as the bias) to help move the threshold up or down as required by the step function.\n",
    "\n",
    "It always has a value of 1 so that its impact on the output may be controlled by the weight."
   ]
  },
  {
   "cell_type": "markdown",
   "metadata": {
    "id": "0tF2-OEGtHmD"
   },
   "source": [
    "# The Weights\n",
    "Now that we have the inputs, we need to assign them weights.\n",
    "\n",
    "We will choose three random numbers ranging between 0 and 1 to act as the initial weights.\n",
    "\n",
    "We will use the random function of NumPy:\n",
    "\n",
    "weights = random.rand(3)"
   ]
  },
  {
   "cell_type": "code",
   "execution_count": null,
   "metadata": {
    "id": "BJZYFjSJewLn"
   },
   "outputs": [],
   "source": [
    "weights = random.rand(3)"
   ]
  },
  {
   "cell_type": "markdown",
   "metadata": {
    "id": "WFsjekfOtRrl"
   },
   "source": [
    "# Variable Initializations\n",
    "We now need to initialize some variables to be used in our Perceptron example.\n",
    "\n",
    "We will create a list named error to store the error values to be plotted later on.\n",
    "\n",
    "We will also create a variable named learning_rate to control the learning rate and another variable n to control the number of iterations."
   ]
  },
  {
   "cell_type": "code",
   "execution_count": null,
   "metadata": {
    "id": "Cl_XsKcLezsn"
   },
   "outputs": [],
   "source": [
    "error = []\n",
    "\n",
    "learning_rate = 0.2\n",
    "\n",
    "n = 100"
   ]
  },
  {
   "cell_type": "markdown",
   "metadata": {
    "id": "Iuq3uL6atgKt"
   },
   "source": [
    "Let’s reduce the magnitude of the error to zero so as to get the ideal values for the weights.\n",
    "\n",
    "Remember that we are using a total of 100 iterations, which is good for our dataset.\n",
    "\n",
    "For bigger and noisy input data, use larger values for the number of iterations."
   ]
  },
  {
   "cell_type": "markdown",
   "metadata": {
    "id": "C5p29Mryt6Bs"
   },
   "source": [
    "## Model Training\n",
    "Now that everything is ready, it’s time to train our perceptron learning algorithm python model.\n",
    "\n",
    "We will first get some random input set from our training data.\n",
    "\n",
    "Next, we will calculate the dot product of the input and the weight vectors.\n",
    "\n",
    "The result will then be compared with the expected value.\n",
    "\n",
    "If the expected value turns out to be bigger, the weights should be increased, and if it turns out to be smaller, the weights should be decreased."
   ]
  },
  {
   "cell_type": "code",
   "execution_count": null,
   "metadata": {
    "id": "sm27az1we2xs"
   },
   "outputs": [],
   "source": [
    "for j in range(n):\n",
    "\n",
    "    x, expected = choice(training_dataset)\n",
    "\n",
    "    result = dot(weights, x)\n",
    "\n",
    "    err = expected - step_function(result)\n",
    "\n",
    "    error.append(err)\n",
    "\n",
    "    weights += learning_rate * err * x"
   ]
  },
  {
   "cell_type": "markdown",
   "metadata": {
    "id": "DovNlpskuKT2"
   },
   "source": [
    "The last line in the above code helps us calculate the correction factor, in which the error has been multiplied with the learning rate and the input vector.\n",
    "\n",
    "This has been added to the weights vector in order to improve the results in the next iteration.\n",
    "\n",
    "And that is what we need to train our Python Perceptron.\n",
    "\n",
    "It can now act like the logical OR function."
   ]
  },
  {
   "cell_type": "markdown",
   "metadata": {
    "id": "z29Yrud8uRdk"
   },
   "source": [
    "# Model Evaluation\n",
    "Now that the model is ready, we need to evaluate it."
   ]
  },
  {
   "cell_type": "code",
   "execution_count": null,
   "metadata": {
    "colab": {
     "base_uri": "https://localhost:8080/"
    },
    "id": "2zDAhD1rfFEc",
    "outputId": "a0bd554f-373e-4d3d-86e8-b36b09b97d29"
   },
   "outputs": [
    {
     "name": "stdout",
     "output_type": "stream",
     "text": [
      "[0 0]: -0.17359697890467762 -> 0\n",
      "[0 1]: 0.23216679619547254 -> 1\n",
      "[1 0]: 0.09860739851288258 -> 1\n",
      "[1 1]: 0.5043711736130327 -> 1\n"
     ]
    }
   ],
   "source": [
    "for x, _ in training_dataset:\n",
    "\n",
    "    result = dot(x, weights)\n",
    "\n",
    "    print('{}: {} -> {}'.format(x[:2],result,step_function(result)))"
   ]
  },
  {
   "cell_type": "markdown",
   "metadata": {
    "id": "jMeQZAIVuXEC"
   },
   "source": [
    "From the above output, you can tell that our Perceptron algorithm example is acting like the logical OR function."
   ]
  },
  {
   "cell_type": "markdown",
   "metadata": {
    "id": "dcIfs7Xfuaj-"
   },
   "source": [
    "# Plot the Errors\n",
    "The best way to visualize the learning process is by plotting the errors.\n",
    "\n",
    "This is possible using the pylab library.\n",
    "\n",
    "The pyplot module of the matplotlib library can then help us to visualize the generated plot."
   ]
  },
  {
   "cell_type": "code",
   "execution_count": null,
   "metadata": {
    "colab": {
     "base_uri": "https://localhost:8080/",
     "height": 269
    },
    "id": "kCcjYuP3feP8",
    "outputId": "74c671ed-8bc6-4a2c-dce2-696f2b089c3a"
   },
   "outputs": [
    {
     "data": {
      "image/png": "[encoded data removed]",
      "text/plain": [
       "<Figure size 432x288 with 1 Axes>"
      ]
     },
     "metadata": {
      "needs_background": "light"
     },
     "output_type": "display_data"
    }
   ],
   "source": [
    "from pylab import ylim,plot\n",
    "\n",
    "from matplotlib import pyplot as plt\n",
    "\n",
    "ylim([-1,1])\n",
    "\n",
    "plot(error)\n",
    "\n",
    "plt.show()"
   ]
  }
 ],
 "metadata": {
  "colab": {
   "provenance": []
  },
  "kernelspec": {
   "display_name": "Python 3",
   "language": "python",
   "name": "python3"
  },
  "language_info": {
   "codemirror_mode": {
    "name": "ipython",
    "version": 3
   },
   "file_extension": ".py",
   "mimetype": "text/x-python",
   "name": "python",
   "nbconvert_exporter": "python",
   "pygments_lexer": "ipython3",
   "version": "3.9.13"
  }
 },
 "nbformat": 4,
 "nbformat_minor": 4
}
